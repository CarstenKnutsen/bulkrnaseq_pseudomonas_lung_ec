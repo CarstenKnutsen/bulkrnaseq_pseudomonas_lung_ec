{
 "cells": [
  {
   "cell_type": "code",
   "execution_count": null,
   "id": "5b04ef63",
   "metadata": {},
   "outputs": [],
   "source": [
    "'''Calculate qc statistics and renaming variables to gene symbol\n",
    "author: Carsten Knutsen\n",
    "Date: March 18 2023\n",
    "conda environment: bulk_rnaseq\n",
    "'''"
   ]
  },
  {
   "cell_type": "code",
   "execution_count": null,
   "id": "747d5bbc",
   "metadata": {},
   "outputs": [],
   "source": [
    "import pandas as pd\n",
    "import os\n",
    "from anndata import AnnData\n",
    "import seaborn as sns\n",
    "import numpy as np\n",
    "from gtfparse import read_gtf\n"
   ]
  },
  {
   "cell_type": "code",
   "execution_count": null,
   "id": "9f38956b",
   "metadata": {},
   "outputs": [],
   "source": [
    "##Input and output files\n",
    "output = 'data/output_data/'\n",
    "input_counts = 'data/aligned_sequencing/counts.csv'\n",
    "map_qc = f'{output}/mapping_qc.csv'\n",
    "output_counts = f'{output}/clean_counts.csv'\n",
    "##read in original counts\n",
    "df = pd.read_csv(input_counts,index_col=0)\n",
    "qc = df.iloc[:4]\n",
    "counts= df.iloc[4:]\n",
    "qc = qc.append(pd.Series(counts.sum(axis=0), name='mapped_successful'))\n",
    "qc = qc.T\n",
    "##Calculate QC for mapping\n",
    "total = qc.sum(axis = 1)\n",
    "perc_df = qc.div(total, axis = 0) *100\n",
    "perc_df.columns = [f'% {x}' for x in perc_df.columns ]\n",
    "perc_df['total_reads'] = total\n",
    "perc_df.sort_index().to_csv(f'{map_qc}')\n",
    "##Rename ensembl to gene\n",
    "gtf = read_gtf('/media/carsten/hdd/genomes/mouse/gencode.vM27.annotation.gtf')\n",
    "gene_name_dict = pd.Series(gtf.gene_name.values, index=gtf.gene_id).to_dict()\n",
    "counts.index = [gene_name_dict[x] for x in counts.index]\n",
    "counts = counts.T.sum(axis=1, level=0).T\n",
    "counts.index.names = ['symbol']\n",
    "counts[sorted(counts.columns.tolist())].to_csv(output_counts)"
   ]
  }
 ],
 "metadata": {
  "kernelspec": {
   "display_name": "Python 3 (ipykernel)",
   "language": "python",
   "name": "python3"
  },
  "language_info": {
   "codemirror_mode": {
    "name": "ipython",
    "version": 3
   },
   "file_extension": ".py",
   "mimetype": "text/x-python",
   "name": "python",
   "nbconvert_exporter": "python",
   "pygments_lexer": "ipython3",
   "version": "3.8.12"
  }
 },
 "nbformat": 4,
 "nbformat_minor": 5
}
