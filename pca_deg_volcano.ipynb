{
 "cells": [
  {
   "cell_type": "code",
   "execution_count": null,
   "id": "5b04ef63",
   "metadata": {},
   "outputs": [],
   "source": [
    "'''Make plots and tables\n",
    "author: Carsten Knutsen\n",
    "Date: March 18 2023\n",
    "conda environment: bulk_rnaseq\n",
    "'''"
   ]
  },
  {
   "cell_type": "code",
   "execution_count": null,
   "id": "747d5bbc",
   "metadata": {},
   "outputs": [],
   "source": [
    "import pandas as pd\n",
    "import os\n",
    "import scanpy as sc\n",
    "from anndata import AnnData\n",
    "import seaborn as sns\n",
    "import numpy as np\n",
    "import matplotlib.pyplot as plt\n",
    "from scipy.stats import zscore\n",
    "from sklearn.decomposition import PCA\n"
   ]
  },
  {
   "cell_type": "code",
   "execution_count": null,
   "id": "7f006fe5",
   "metadata": {},
   "outputs": [],
   "source": [
    "input_dir = 'data/output_data'\n",
    "output_dir = 'data/output_data'\n",
    "os.makedirs(output_dir, exist_ok=True)"
   ]
  },
  {
   "cell_type": "markdown",
   "id": "051763e0",
   "metadata": {},
   "source": [
    "## Put DEG lists into excel"
   ]
  },
  {
   "cell_type": "code",
   "execution_count": null,
   "id": "ed1cd05c",
   "metadata": {},
   "outputs": [],
   "source": [
    "deg_excel = f'{output_dir}/deg_tests.xlsx'\n",
    "with pd.ExcelWriter(deg_excel) as writer:\n",
    "    csv_dir = f'{input_dir}/deg_tests'\n",
    "    for fn in sorted(os.listdir(csv_dir)):\n",
    "        print(fn)\n",
    "        sheet = pd.read_csv(f'{csv_dir}/{fn}', index_col = 0, header =0)\n",
    "        sheet.to_excel(writer, sheet_name = '_'.join(fn.split('.')[0].split('_')[:-1])[:31])\n",
    "    "
   ]
  },
  {
   "cell_type": "markdown",
   "id": "82cffda3",
   "metadata": {},
   "source": [
    "## PCA"
   ]
  },
  {
   "cell_type": "code",
   "execution_count": null,
   "id": "36365c14",
   "metadata": {},
   "outputs": [],
   "source": [
    "tmm = pd.read_csv(f'{input_dir}/tmm.csv', header = 0, index_col = 0)\n",
    "log_df = tmm.T\n",
    "log_df = log_df+0.001\n",
    "log_df\n",
    "log_df=(\n",
    "    log_df\n",
    "    .apply(np.log10)\n",
    ")\n",
    "\n",
    "pca = PCA(n_components=2)\n",
    "principalComponents = pca.fit_transform(log_df)\n",
    "principalDf = pd.DataFrame(data = principalComponents\n",
    "             , index = tmm.T.index, columns = ['PC1', 'PC2'])\n",
    "principalDf['Age'] = ['Adult',\n",
    "                      'Adult',\n",
    "                      'Adult',\n",
    "                      'Adult',\n",
    "                      'Adult',\n",
    "                      'Adult',\n",
    "                      'Juvenile',\n",
    "                      'Juvenile',\n",
    "                      'Juvenile',\n",
    "                      'Juvenile',\n",
    "                      'Juvenile',\n",
    "                      'Juvenile',\n",
    "                     ]\n",
    "principalDf['Treatment'] = ['Pseudomonas',\n",
    "                            'Pseudomonas',\n",
    "                            'Pseudomonas',\n",
    "                            'Saline',\n",
    "                            'Saline',\n",
    "                            'Saline',\n",
    "                            'Pseudomonas',\n",
    "                            'Pseudomonas',\n",
    "                            'Pseudomonas',\n",
    "                            'Saline',\n",
    "                            'Saline',\n",
    "                            'Saline',\n",
    "                           ]\n",
    "principalDf['Replicate'] = ['1',\n",
    "                            '2',\n",
    "                            '3',\n",
    "                            '1',\n",
    "                            '2',\n",
    "                            '3',\n",
    "                            '1',\n",
    "                            '2',\n",
    "                            '3',\n",
    "                            '1',\n",
    "                            '2',\n",
    "                            '3',\n",
    "                           ]\n",
    "\n",
    "principalDf['Sample'] = [f'{x}_{y}_{z}' for x,y,z in zip(principalDf['Age'],\n",
    "                                                        principalDf['Treatment'],\n",
    "                                                        principalDf['Replicate'])\n",
    "                        ]\n",
    "principalDf['name'] = principalDf.index\n",
    "\n",
    "fig, ax = plt.subplots(1,1)\n",
    "sns.scatterplot(data = principalDf, x = 'PC1', y ='PC2',hue='Treatment',hue_order = ['Saline', 'Pseudomonas'],style ='Age', s=300,linewidth=0,ax = ax)\n",
    "ax.set_xlabel(f'PC1 ({str(pca.explained_variance_ratio_[0] *100)[:4]}% variance)')\n",
    "ax.set_ylabel(f'PC2 ({str(pca.explained_variance_ratio_ [1]*100)[:4]}% variance)')\n",
    "plt.legend(bbox_to_anchor=(1.05, 1), loc='upper left', borderaxespad=0)\n",
    "fig.savefig(f'{output_dir}/pca.png', dpi = 300, bbox_inches = 'tight')\n",
    "plt.close(fig)\n"
   ]
  },
  {
   "cell_type": "markdown",
   "id": "f21c72c7",
   "metadata": {},
   "source": [
    "## Volcano Plots for each comparison"
   ]
  },
  {
   "cell_type": "code",
   "execution_count": null,
   "id": "99baa567",
   "metadata": {},
   "outputs": [],
   "source": [
    "deg_lists = pd.read_excel(deg_excel, sheet_name=None, index_col=0)\n",
    "for k in sorted(deg_lists.keys()):\n",
    "    df = deg_lists[k]\n",
    "    df['$-Log_{10}$(FDR)'] = df['FDR'].apply(lambda x: -np.log10(x))\n",
    "    df['$Log_{2}$(FC)'] = df['logFC']\n",
    "\n",
    "    color = []\n",
    "    for x in df.index:\n",
    "        tmp = df.loc[x]\n",
    "        if tmp['logFC'] > 1 and tmp['FDR'] < 0.05:\n",
    "            color.append('Upregulated')\n",
    "        elif tmp['logFC'] < -1 and tmp['FDR'] < 0.05:\n",
    "            color.append('Downregulated')\n",
    "        else:\n",
    "            color.append('NS')\n",
    "\n",
    "    \n",
    "    df['color'] = color\n",
    "    print(k)\n",
    "    print(df.value_counts('color'))\n",
    "    df_sub = df.loc[df['FDR']<0.05].sort_values('logFC',ascending=False)\n",
    "    genes = df_sub.head(5).index.tolist() + df_sub.tail(5).index.tolist() + df.head(5).index.tolist()\n",
    "    markers = ['Bmx','Gja5','Car4','Ednrb','Glp1r','Kit','Mmrn1','Hpgd','Slc6a2','Car8']\n",
    "    for gene_ls in [['top', genes],['markers',markers]]:\n",
    "        fig, ax = plt.subplots(1, 1, figsize=(3, 3))\n",
    "        sns.scatterplot(data=df,\n",
    "                        y='$-Log_{10}$(FDR)',\n",
    "                        x='$Log_{2}$(FC)',\n",
    "                        hue='color',\n",
    "                        hue_order=['Upregulated', 'NS', 'Downregulated'],\n",
    "                        palette=['green', 'grey', 'red'],\n",
    "                        s=10,\n",
    "                        linewidth=0,\n",
    "                        ax=ax\n",
    "                        )\n",
    "        for gene in gene_ls[1]:\n",
    "            plt.text( df['$Log_{2}$(FC)'][gene],df['$-Log_{10}$(FDR)'][gene], gene, size=6)\n",
    "        ax.get_legend().remove()\n",
    "        ax.set_title(f'{k}')\n",
    "        fig.savefig(f'{output_dir}/volcano_{k}_{gene_ls[0]}.png', dpi=300, bbox_inches=\"tight\")\n",
    "        plt.close()\n"
   ]
  }
 ],
 "metadata": {
  "kernelspec": {
   "display_name": "Python 3 (ipykernel)",
   "language": "python",
   "name": "python3"
  },
  "language_info": {
   "codemirror_mode": {
    "name": "ipython",
    "version": 3
   },
   "file_extension": ".py",
   "mimetype": "text/x-python",
   "name": "python",
   "nbconvert_exporter": "python",
   "pygments_lexer": "ipython3",
   "version": "3.8.12"
  }
 },
 "nbformat": 4,
 "nbformat_minor": 5
}
